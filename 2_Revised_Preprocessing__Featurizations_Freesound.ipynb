{
  "nbformat": 4,
  "nbformat_minor": 0,
  "metadata": {
    "colab": {
      "provenance": []
    },
    "kernelspec": {
      "name": "python3",
      "display_name": "Python 3"
    },
    "language_info": {
      "name": "python"
    },
    "gpuClass": "standard"
  },
  "cells": [
    {
      "cell_type": "markdown",
      "source": [
        "###Importing Libraries to be used"
      ],
      "metadata": {
        "id": "FX6Q9LdmY10A"
      }
    },
    {
      "cell_type": "code",
      "source": [
        "import numpy as np\n",
        "import pandas as pd\n",
        "import joblib\n",
        "from pathlib import Path\n",
        "import os\n",
        "import shutil\n",
        "from soundfile import write\n",
        "import librosa\n",
        "from sklearn.model_selection import train_test_split\n",
        "import warnings\n",
        "warnings.filterwarnings('ignore')\n",
        "from google.colab import drive\n",
        "drive.mount('/content/gdrive')"
      ],
      "metadata": {
        "id": "FZlXsDfEZUwU",
        "colab": {
          "base_uri": "https://localhost:8080/"
        },
        "outputId": "806ecc64-0fb7-43a7-d80a-cbc6f2812ff3"
      },
      "execution_count": null,
      "outputs": [
        {
          "output_type": "stream",
          "name": "stdout",
          "text": [
            "Mounted at /content/gdrive\n"
          ]
        }
      ]
    },
    {
      "cell_type": "code",
      "source": [
        "trainframeT = pd.read_csv('/content/gdrive/MyDrive/Freesound_new/train_curated.csv')"
      ],
      "metadata": {
        "id": "Og3kn_vQxiJy"
      },
      "execution_count": null,
      "outputs": []
    },
    {
      "cell_type": "markdown",
      "source": [
        "Sorted List of all labels"
      ],
      "metadata": {
        "id": "YQSFQ9jGbDWo"
      }
    },
    {
      "cell_type": "code",
      "source": [
        "LABELS=set()\n",
        "all_labels = list(trainframe['labels'])\n",
        "for row in all_labels:\n",
        "    for lab in row.split(r','):\n",
        "        LABELS.add(lab)\n",
        "LABELS=list(LABELS)\n",
        "LABELS.sort()\n",
        "joblib.dump(LABELS, '/content/gdrive/MyDrive/Freesound/labels.joblib')"
      ],
      "metadata": {
        "id": "4NqkkFYibL40",
        "colab": {
          "base_uri": "https://localhost:8080/"
        },
        "outputId": "6487115a-a487-43df-c05b-08f6b7a9d3ef"
      },
      "execution_count": null,
      "outputs": [
        {
          "output_type": "execute_result",
          "data": {
            "text/plain": [
              "['/content/gdrive/MyDrive/Freesound/labels.joblib']"
            ]
          },
          "metadata": {},
          "execution_count": 26
        }
      ]
    },
    {
      "cell_type": "code",
      "source": [
        "trainframeT['label_count'] = trainframe['labels'].apply(lambda x: len(x.split(',')))"
      ],
      "metadata": {
        "id": "Lm7Zdt13bje7"
      },
      "execution_count": null,
      "outputs": []
    },
    {
      "cell_type": "code",
      "source": [
        "trainframeT['label_count'].value_counts()"
      ],
      "metadata": {
        "colab": {
          "base_uri": "https://localhost:8080/"
        },
        "id": "fnc3KGo0Y0M6",
        "outputId": "290a5dd8-f815-4dce-c2e9-92fb3101b723"
      },
      "execution_count": null,
      "outputs": [
        {
          "output_type": "execute_result",
          "data": {
            "text/plain": [
              "1    4269\n",
              "2     627\n",
              "3      69\n",
              "4       4\n",
              "6       1\n",
              "Name: label_count, dtype: int64"
            ]
          },
          "metadata": {},
          "execution_count": 13
        }
      ]
    },
    {
      "cell_type": "code",
      "source": [
        "fname_to_be_deleted = (trainframeT[trainframeT['label_count'] == 6]['fname']).values[0]\n",
        "fname_path = '/content/gdrive/MyDrive/Freesound/train_curated/' + fname_to_be_deleted\n",
        "os.remove(fname_path)\n",
        "fname_to_be_deleted = (trainframeN[trainframeN['label_count'] == 6]['fname']).values[0]\n",
        "fname_path = '/content/gdrive/MyDrive/Freesound/train_noisy/' + fname_to_be_deleted\n",
        "os.remove(fname_path)\n",
        "trainframe = trainframe[trainframe['label_count'] < 6]\n",
        "y_count=np.array(trainframe['label_count'])\n",
        "df_train, df_val = train_test_split(df_combined, stratify=y_count, test_size=0.3, random_state=21)"
      ],
      "metadata": {
        "id": "UjVIYOnHcpl0"
      },
      "execution_count": null,
      "outputs": []
    },
    {
      "cell_type": "code",
      "source": [
        "# Saving for future use\n",
        "df_train.to_csv(r'/content/gdrive/MyDrive/Freesound_new/df_train.csv', index=False)\n",
        "df_val.to_csv(r'/content/gdrive/MyDrive/Freesound_new/df_val.csv', index=False)\n",
        "trainframeT.to_csv('/content/gdrive/MyDrive/Freesound_new/df_combined.csv', index=False)"
      ],
      "metadata": {
        "id": "Re1p91OodzdE"
      },
      "execution_count": null,
      "outputs": []
    },
    {
      "cell_type": "markdown",
      "source": [
        "###Creation of a Custom Configuration Class & Preprocessing Function "
      ],
      "metadata": {
        "id": "3GhsE7NDedVn"
      }
    },
    {
      "cell_type": "code",
      "source": [
        "## taken from kaggle experts\n",
        "conf = {'sr': 44100, 'duration': 2, 'fmin': 20, 'n_mels': 128}\n",
        "conf['hop_length'] = 347*conf['duration']\n",
        "conf['fmax'], conf['n_fft'] = conf['sr'] // 2, conf['n_mels'] * 20\n",
        "conf['samples'] = conf['sr'] * conf['duration']"
      ],
      "metadata": {
        "id": "UEQsr3qbeIPd"
      },
      "execution_count": null,
      "outputs": []
    },
    {
      "cell_type": "code",
      "source": [
        "## this code is inspired from https://github.com/divyanshjain19/Freesound_Audio_Tagging\n",
        "def preprocess(config, data_dir, dest_folder,trim_long_data=False):\n",
        "    '''\n",
        "    Description:\n",
        "    This function performs preprocessing on each audio clip in the given data directory to prepare it for training.\n",
        "    \n",
        "    Inputs:\n",
        "    config: An instance of the Config class that contains configuration parameters for preprocessing.\n",
        "    data_dir: The path to the directory containing the .wav files to be preprocessed.\n",
        "    dest_folder: The destination folder where the preprocessed clips will be stored.\n",
        "    \n",
        "    Processing:\n",
        "    1. Load each .wav file in data_dir into a numpy array using a 44 kHz sampling rate.\n",
        "    2. Trim the leading and trailing silences, i.e., sounds below 60 dB of loudness, from the audio clip.\n",
        "    3. If the clip is longer than the desired length (specified in config), randomly select a subsample of the clip of the desired length.\n",
        "       If the clip is shorter than the desired length, pad it with zeroes on both ends to achieve the desired length.\n",
        "    4. Write the modified clip to the destination folder.\n",
        "    '''\n",
        "    for file in os.listdir(data_dir):\n",
        "        filepath = data_dir + file     \n",
        "        y, sr = librosa.load(filepath, sr=conf['sr'])\n",
        "        # trim silence\n",
        "        if 0 < len(y): # workaround: 0 length causes error\n",
        "            y, _ = librosa.effects.trim(y) # trim, top_db=default(60)\n",
        "        # make it unified length to conf.samples\n",
        "        if len(y) > conf['samples']: # long enough\n",
        "            if trim_long_data:\n",
        "                y = y[0:0+conf['samples']]\n",
        "        else: # pad blank\n",
        "            padding = conf['samples'] - len(y) # add padding at both ends\n",
        "            offset = padding // 2\n",
        "            y = np.pad(y, (offset, conf['samples'] - len(y) - offset), 'constant')\n",
        "        dest_path = dest_folder + file        \n",
        "        write(dest_path,y,conf['sr'])"
      ],
      "metadata": {
        "id": "beyLrMTieyVN"
      },
      "execution_count": null,
      "outputs": []
    },
    {
      "cell_type": "code",
      "source": [
        "preprocess(conf, '/content/gdrive/MyDrive/Freesound/train_curated/', '/content/gdrive/MyDrive/Freesound/preprocessed_files_train/')"
      ],
      "metadata": {
        "id": "-_p7Z5ghe09m"
      },
      "execution_count": null,
      "outputs": []
    },
    {
      "cell_type": "code",
      "source": [
        "preprocess(conf, '/content/gdrive/MyDrive/Freesound/Val/', '/content/gdrive/MyDrive/Freesound/preprocessed_files_val/')"
      ],
      "metadata": {
        "id": "QCGCYq-rw9o2"
      },
      "execution_count": null,
      "outputs": []
    },
    {
      "cell_type": "code",
      "source": [
        "preprocess(conf, '/content/gdrive/MyDrive/Freesound/test/', '/content/gdrive/MyDrive/Freesound/preprocessed_files_test/')"
      ],
      "metadata": {
        "id": "qCh9rYSVe9Fe"
      },
      "execution_count": null,
      "outputs": []
    }
  ]
}